{
 "cells": [
  {
   "cell_type": "markdown",
   "id": "29c69cf1",
   "metadata": {},
   "source": [
    "Indexing Tasks\n",
    "1. Load the sales-feb-2015.csv file into a DataFrame and set the 'Date' column as the\n",
    "index."
   ]
  },
  {
   "cell_type": "code",
   "execution_count": null,
   "id": "a7eae3c7",
   "metadata": {},
   "outputs": [
    {
     "name": "stdout",
     "output_type": "stream",
     "text": [
      "                             Company   Product  Units\n",
      "Date                                                 \n",
      "2015-02-02 08:30:00            Hooli  Software      3\n",
      "2015-02-02 21:00:00        Mediacore  Hardware      9\n",
      "2015-02-03 14:00:00          Initech  Software     13\n",
      "2015-02-04 15:30:00        Streeplex  Software     13\n",
      "2015-02-04 22:00:00  Acme Coporation  Hardware     14\n"
     ]
    }
   ],
   "source": [
    "import pandas as pd\n",
    "\n",
    "df = pd.read_csv(\"sales-feb-2015.csv\", parse_dates=[\"Date\"])\n",
    "\n",
    "df.set_index(\"Date\", inplace=True)\n",
    "\n",
    "print(df.head())   \n"
   ]
  },
  {
   "cell_type": "markdown",
   "id": "52da6341",
   "metadata": {},
   "source": [
    "2. Access the 'Units' sold for the entry on February 5th at 02:00:00 using both square\n",
    "bracket notation and .loc accessor."
   ]
  },
  {
   "cell_type": "code",
   "execution_count": null,
   "id": "f65119ac",
   "metadata": {},
   "outputs": [
    {
     "name": "stdout",
     "output_type": "stream",
     "text": [
      "Units (square bracket): 19\n",
      "Units (loc accessor): 19\n"
     ]
    }
   ],
   "source": [
    "units_square = df[\"Units\"][\"2015-02-05 02:00:00\"]\n",
    "\n",
    "units_loc = df.loc[\"2015-02-05 02:00:00\", \"Units\"]\n",
    "\n",
    "print(\"Units (square bracket):\", units_square)\n",
    "print(\"Units (loc accessor):\", units_loc)\n"
   ]
  },
  {
   "cell_type": "markdown",
   "id": "36ac8cb8",
   "metadata": {},
   "source": [
    "3. Create a new DataFrame that contains only the 'Company' and 'Units' columns."
   ]
  },
  {
   "cell_type": "code",
   "execution_count": 5,
   "id": "872ac02b",
   "metadata": {},
   "outputs": [
    {
     "name": "stdout",
     "output_type": "stream",
     "text": [
      "                             Company  Units\n",
      "Date                                       \n",
      "2015-02-02 08:30:00            Hooli      3\n",
      "2015-02-02 21:00:00        Mediacore      9\n",
      "2015-02-03 14:00:00          Initech     13\n",
      "2015-02-04 15:30:00        Streeplex     13\n",
      "2015-02-04 22:00:00  Acme Coporation     14\n"
     ]
    }
   ],
   "source": [
    "df_company_units = df[[\"Company\", \"Units\"]]\n",
    "print(df_company_units.head())\n"
   ]
  },
  {
   "cell_type": "markdown",
   "id": "324d6d39",
   "metadata": {},
   "source": [
    "Slicing Tasks\n",
    "4. Extract all sales data between February 3rd and February 5th (inclusive)."
   ]
  },
  {
   "cell_type": "code",
   "execution_count": 6,
   "id": "7d0535ba",
   "metadata": {},
   "outputs": [
    {
     "name": "stdout",
     "output_type": "stream",
     "text": [
      "                             Company   Product  Units\n",
      "Date                                                 \n",
      "2015-02-03 14:00:00          Initech  Software     13\n",
      "2015-02-04 15:30:00        Streeplex  Software     13\n",
      "2015-02-04 22:00:00  Acme Coporation  Hardware     14\n",
      "2015-02-05 02:00:00  Acme Coporation  Software     19\n",
      "2015-02-05 22:00:00            Hooli   Service     10\n"
     ]
    }
   ],
   "source": [
    "sales_range = df.loc[\"2015-02-03\":\"2015-02-05\"]\n",
    "print(sales_range)\n"
   ]
  },
  {
   "cell_type": "markdown",
   "id": "1c399b44",
   "metadata": {},
   "source": [
    "5. Create a slice that shows only the first 5 entries in the dataset."
   ]
  },
  {
   "cell_type": "code",
   "execution_count": 7,
   "id": "f68355b2",
   "metadata": {},
   "outputs": [
    {
     "name": "stdout",
     "output_type": "stream",
     "text": [
      "                             Company   Product  Units\n",
      "Date                                                 \n",
      "2015-02-02 08:30:00            Hooli  Software      3\n",
      "2015-02-02 21:00:00        Mediacore  Hardware      9\n",
      "2015-02-03 14:00:00          Initech  Software     13\n",
      "2015-02-04 15:30:00        Streeplex  Software     13\n",
      "2015-02-04 22:00:00  Acme Coporation  Hardware     14\n"
     ]
    }
   ],
   "source": [
    "first_five = df[:5]\n",
    "print(first_five)\n"
   ]
  },
  {
   "cell_type": "markdown",
   "id": "70009599",
   "metadata": {},
   "source": [
    "6. Extract all Hooli company entries using .loc to slice the DataFrame."
   ]
  },
  {
   "cell_type": "code",
   "execution_count": 8,
   "id": "af22fe99",
   "metadata": {},
   "outputs": [
    {
     "name": "stdout",
     "output_type": "stream",
     "text": [
      "                    Company   Product  Units\n",
      "Date                                        \n",
      "2015-02-02 08:30:00   Hooli  Software      3\n",
      "2015-02-05 22:00:00   Hooli   Service     10\n",
      "2015-02-11 23:00:00   Hooli  Software      4\n",
      "2015-02-16 12:00:00   Hooli  Software     10\n",
      "2015-02-21 20:30:00   Hooli  Hardware      3\n"
     ]
    }
   ],
   "source": [
    "hooli_sales = df.loc[df[\"Company\"] == \"Hooli\"]\n",
    "print(hooli_sales)\n"
   ]
  },
  {
   "cell_type": "markdown",
   "id": "7e6c9005",
   "metadata": {},
   "source": [
    "7. Using .iloc, select rows 2 through 4 and columns 1 and 2."
   ]
  },
  {
   "cell_type": "code",
   "execution_count": null,
   "id": "2ef760fc",
   "metadata": {},
   "outputs": [
    {
     "name": "stdout",
     "output_type": "stream",
     "text": [
      "                      Product  Units\n",
      "Date                                \n",
      "2015-02-03 14:00:00  Software     13\n",
      "2015-02-04 15:30:00  Software     13\n",
      "2015-02-04 22:00:00  Hardware     14\n"
     ]
    }
   ],
   "source": [
    "iloc_selection = df.iloc[2:5, 1:3]   \n",
    "print(iloc_selection)\n"
   ]
  },
  {
   "cell_type": "markdown",
   "id": "20ad8d22",
   "metadata": {},
   "source": [
    "Filtering Tasks\n",
    "8. Filter the DataFrame to show only rows where more than 10 units were sold."
   ]
  },
  {
   "cell_type": "code",
   "execution_count": 10,
   "id": "94a51395",
   "metadata": {},
   "outputs": [
    {
     "name": "stdout",
     "output_type": "stream",
     "text": [
      "                             Company   Product  Units\n",
      "Date                                                 \n",
      "2015-02-03 14:00:00          Initech  Software     13\n",
      "2015-02-04 15:30:00        Streeplex  Software     13\n",
      "2015-02-04 22:00:00  Acme Coporation  Hardware     14\n",
      "2015-02-05 02:00:00  Acme Coporation  Software     19\n",
      "2015-02-09 09:00:00        Streeplex   Service     19\n",
      "2015-02-19 11:00:00        Mediacore  Hardware     16\n"
     ]
    }
   ],
   "source": [
    "units_gt_10 = df[df[\"Units\"] > 10]\n",
    "print(units_gt_10)\n"
   ]
  },
  {
   "cell_type": "markdown",
   "id": "9e55d538",
   "metadata": {},
   "source": [
    "9. Create a Boolean mask that identifies all Software product sales and use it to filter the\n",
    "DataFrame."
   ]
  },
  {
   "cell_type": "code",
   "execution_count": 11,
   "id": "d6bafdaa",
   "metadata": {},
   "outputs": [
    {
     "name": "stdout",
     "output_type": "stream",
     "text": [
      "                             Company   Product  Units\n",
      "Date                                                 \n",
      "2015-02-02 08:30:00            Hooli  Software      3\n",
      "2015-02-03 14:00:00          Initech  Software     13\n",
      "2015-02-04 15:30:00        Streeplex  Software     13\n",
      "2015-02-05 02:00:00  Acme Coporation  Software     19\n",
      "2015-02-09 13:00:00        Mediacore  Software      7\n",
      "2015-02-11 20:00:00          Initech  Software      7\n",
      "2015-02-11 23:00:00            Hooli  Software      4\n",
      "2015-02-16 12:00:00            Hooli  Software     10\n",
      "2015-02-21 05:00:00        Mediacore  Software      3\n"
     ]
    }
   ],
   "source": [
    "software_mask = df[\"Product\"] == \"Software\"\n",
    "software_sales = df[software_mask]\n",
    "print(software_sales)\n"
   ]
  },
  {
   "cell_type": "markdown",
   "id": "7e056012",
   "metadata": {},
   "source": [
    "10. Find all entries where either the product is Hardware OR the units sold are greater than\n",
    "15."
   ]
  },
  {
   "cell_type": "code",
   "execution_count": 12,
   "id": "b30a8d43",
   "metadata": {},
   "outputs": [
    {
     "name": "stdout",
     "output_type": "stream",
     "text": [
      "                             Company   Product  Units\n",
      "Date                                                 \n",
      "2015-02-02 21:00:00        Mediacore  Hardware      9\n",
      "2015-02-04 22:00:00  Acme Coporation  Hardware     14\n",
      "2015-02-05 02:00:00  Acme Coporation  Software     19\n",
      "2015-02-07 23:00:00  Acme Coporation  Hardware      1\n",
      "2015-02-09 09:00:00        Streeplex   Service     19\n",
      "2015-02-19 11:00:00        Mediacore  Hardware     16\n",
      "2015-02-21 20:30:00            Hooli  Hardware      3\n"
     ]
    }
   ],
   "source": [
    "hardware_or_units = df[(df[\"Product\"] == \"Hardware\") | (df[\"Units\"] > 15)]\n",
    "print(hardware_or_units)\n"
   ]
  },
  {
   "cell_type": "markdown",
   "id": "dbf8e9fb",
   "metadata": {},
   "source": [
    "11. Remove any rows with NaN values (if any exist in the dataset)."
   ]
  },
  {
   "cell_type": "code",
   "execution_count": 13,
   "id": "7c84c08e",
   "metadata": {},
   "outputs": [
    {
     "name": "stdout",
     "output_type": "stream",
     "text": [
      "                             Company   Product  Units\n",
      "Date                                                 \n",
      "2015-02-02 08:30:00            Hooli  Software      3\n",
      "2015-02-02 21:00:00        Mediacore  Hardware      9\n",
      "2015-02-03 14:00:00          Initech  Software     13\n",
      "2015-02-04 15:30:00        Streeplex  Software     13\n",
      "2015-02-04 22:00:00  Acme Coporation  Hardware     14\n",
      "2015-02-05 02:00:00  Acme Coporation  Software     19\n",
      "2015-02-05 22:00:00            Hooli   Service     10\n",
      "2015-02-07 23:00:00  Acme Coporation  Hardware      1\n",
      "2015-02-09 09:00:00        Streeplex   Service     19\n",
      "2015-02-09 13:00:00        Mediacore  Software      7\n",
      "2015-02-11 20:00:00          Initech  Software      7\n",
      "2015-02-11 23:00:00            Hooli  Software      4\n",
      "2015-02-16 12:00:00            Hooli  Software     10\n",
      "2015-02-19 11:00:00        Mediacore  Hardware     16\n",
      "2015-02-19 16:00:00        Mediacore   Service     10\n",
      "2015-02-21 05:00:00        Mediacore  Software      3\n",
      "2015-02-21 20:30:00            Hooli  Hardware      3\n",
      "2015-02-25 00:30:00          Initech   Service     10\n",
      "2015-02-26 09:00:00        Streeplex   Service      4\n"
     ]
    }
   ],
   "source": [
    "df_clean = df.dropna()\n",
    "print(df_clean)\n"
   ]
  },
  {
   "cell_type": "markdown",
   "id": "6a7e9895",
   "metadata": {},
   "source": [
    "Transforming Tasks\n",
    "12. Add a new column called 'Revenue' that calculates revenue based on the following\n",
    "prices:\n",
    "○ Software: $350 per unit\n",
    "○ Hardware: $425 per unit\n",
    "○ Service: $275 per unit"
   ]
  },
  {
   "cell_type": "code",
   "execution_count": null,
   "id": "61fe55a9",
   "metadata": {},
   "outputs": [
    {
     "name": "stdout",
     "output_type": "stream",
     "text": [
      "                      Product  Units  Revenue\n",
      "Date                                         \n",
      "2015-02-02 08:30:00  Software      3     1050\n",
      "2015-02-02 21:00:00  Hardware      9     3825\n",
      "2015-02-03 14:00:00  Software     13     4550\n",
      "2015-02-04 15:30:00  Software     13     4550\n",
      "2015-02-04 22:00:00  Hardware     14     5950\n"
     ]
    }
   ],
   "source": [
    "price_map = {\"Software\": 350, \"Hardware\": 425, \"Service\": 275}\n",
    "\n",
    "df[\"Revenue\"] = df[\"Product\"].map(price_map) * df[\"Units\"]\n",
    "\n",
    "print(df[[\"Product\", \"Units\", \"Revenue\"]].head())\n"
   ]
  },
  {
   "cell_type": "markdown",
   "id": "2007c1dd",
   "metadata": {},
   "source": [
    "13. Create a new column 'DayOfWeek' that contains the day of the week for each sale."
   ]
  },
  {
   "cell_type": "code",
   "execution_count": 15,
   "id": "ccd31b39",
   "metadata": {},
   "outputs": [
    {
     "name": "stdout",
     "output_type": "stream",
     "text": [
      "                     DayOfWeek\n",
      "Date                          \n",
      "2015-02-02 08:30:00     Monday\n",
      "2015-02-02 21:00:00     Monday\n",
      "2015-02-03 14:00:00    Tuesday\n",
      "2015-02-04 15:30:00  Wednesday\n",
      "2015-02-04 22:00:00  Wednesday\n"
     ]
    }
   ],
   "source": [
    "df[\"DayOfWeek\"] = df.index.day_name()\n",
    "print(df[[\"DayOfWeek\"]].head())\n"
   ]
  },
  {
   "cell_type": "markdown",
   "id": "a01460e3",
   "metadata": {},
   "source": [
    "14. Apply a discount function to the Revenue column that gives:\n",
    "○ 5% discount for purchases of 15+ units\n",
    "○ 10% discount for purchases of 20+ units"
   ]
  },
  {
   "cell_type": "code",
   "execution_count": null,
   "id": "54a416ca",
   "metadata": {},
   "outputs": [
    {
     "name": "stdout",
     "output_type": "stream",
     "text": [
      "                     Units  Revenue  DiscountedRevenue\n",
      "Date                                                  \n",
      "2015-02-02 08:30:00      3     1050             1050.0\n",
      "2015-02-02 21:00:00      9     3825             3825.0\n",
      "2015-02-03 14:00:00     13     4550             4550.0\n",
      "2015-02-04 15:30:00     13     4550             4550.0\n",
      "2015-02-04 22:00:00     14     5950             5950.0\n"
     ]
    }
   ],
   "source": [
    "def apply_discount(units, revenue):\n",
    "    if units >= 20:\n",
    "        return revenue * 0.90  \n",
    "    elif units >= 15:\n",
    "        return revenue * 0.95  \n",
    "    else:\n",
    "        return revenue\n",
    "\n",
    "df[\"DiscountedRevenue\"] = df.apply(\n",
    "    lambda row: apply_discount(row[\"Units\"], row[\"Revenue\"]), axis=1\n",
    ")\n",
    "\n",
    "print(df[[\"Units\", \"Revenue\", \"DiscountedRevenue\"]].head())\n"
   ]
  },
  {
   "cell_type": "markdown",
   "id": "e6331d1b",
   "metadata": {},
   "source": [
    "15. Transform the Company names to all uppercase and create a new column called\n",
    "'CompanyCode' that contains the first three letters of each company name."
   ]
  },
  {
   "cell_type": "code",
   "execution_count": 17,
   "id": "b7cb5f8d",
   "metadata": {},
   "outputs": [
    {
     "name": "stdout",
     "output_type": "stream",
     "text": [
      "                             Company     CompanyUpper CompanyCode\n",
      "Date                                                             \n",
      "2015-02-02 08:30:00            Hooli            HOOLI         HOO\n",
      "2015-02-02 21:00:00        Mediacore        MEDIACORE         MED\n",
      "2015-02-03 14:00:00          Initech          INITECH         INI\n",
      "2015-02-04 15:30:00        Streeplex        STREEPLEX         STR\n",
      "2015-02-04 22:00:00  Acme Coporation  ACME COPORATION         ACM\n"
     ]
    }
   ],
   "source": [
    "df[\"CompanyUpper\"] = df[\"Company\"].str.upper()\n",
    "df[\"CompanyCode\"] = df[\"Company\"].str[:3].str.upper()\n",
    "\n",
    "print(df[[\"Company\", \"CompanyUpper\", \"CompanyCode\"]].head())\n"
   ]
  }
 ],
 "metadata": {
  "kernelspec": {
   "display_name": "Python 3",
   "language": "python",
   "name": "python3"
  },
  "language_info": {
   "codemirror_mode": {
    "name": "ipython",
    "version": 3
   },
   "file_extension": ".py",
   "mimetype": "text/x-python",
   "name": "python",
   "nbconvert_exporter": "python",
   "pygments_lexer": "ipython3",
   "version": "3.13.7"
  }
 },
 "nbformat": 4,
 "nbformat_minor": 5
}
